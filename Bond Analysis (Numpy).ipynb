{
 "cells": [
  {
   "cell_type": "code",
   "execution_count": 18,
   "metadata": {},
   "outputs": [
    {
     "data": {
      "text/plain": [
       "2170604.0567355165"
      ]
     },
     "execution_count": 18,
     "metadata": {},
     "output_type": "execute_result"
    }
   ],
   "source": [
    "# Get bond price\n",
    "import numpy as np\n",
    "def getBondPrice(y, face, couponRate, m, ppy =1):\n",
    "    dfs = (1+y/ppy) ** -np.arange(1,m +1)\n",
    "    pvcf = sum(face * couponRate/ppy *dfs)\n",
    "    pvface = face *dfs[-1]\n",
    "    bondprice = pvcf + pvface\n",
    "    return(bondprice)\n",
    "\n",
    "# Test values\n",
    "\n",
    "y = 0.03\n",
    "face = 2000000\n",
    "couponRate = 0.04\n",
    "m = 10\n",
    "ppy = 1\n",
    "getBondPrice(y,face,couponRate,m,ppy)"
   ]
  },
  {
   "cell_type": "code",
   "execution_count": 3,
   "metadata": {},
   "outputs": [
    {
     "data": {
      "text/plain": [
       "8.508690304459574"
      ]
     },
     "execution_count": 3,
     "metadata": {},
     "output_type": "execute_result"
    }
   ],
   "source": [
    "# Get bond duration\n",
    "import numpy as np\n",
    "def getBondDuration(y, face, couponRate, m, ppy=1):\n",
    "    t = np.arange(1, m + 1)\n",
    "    dfs = (1 + y / ppy) ** -t\n",
    "    pvcf = (face * couponRate / ppy) * dfs\n",
    "    facePV = face * dfs[-1]\n",
    "    pvcf_d = pvcf * t / ppy\n",
    "    pvface_d = facePV * t[-1] / ppy\n",
    "    bondPrice = sum(pvcf) + facePV\n",
    "    duration = (sum(pvcf_d) + pvface_d) / bondPrice\n",
    "    \n",
    "    return duration\n",
    "# Test values\n",
    "\n",
    "y = 0.03\n",
    "face = 2000000\n",
    "couponRate = 0.04\n",
    "m = 10\n",
    "ppy = 1\n",
    "getBondDuration(y, face, couponRate, m, ppy)"
   ]
  },
  {
   "cell_type": "code",
   "execution_count": 2,
   "metadata": {},
   "outputs": [
    {
     "name": "stdout",
     "output_type": "stream",
     "text": [
      "['fizzbuzz' 1 2 'fizz' 4 'buzz' 'fizz' 7 8 'fizz' 'buzz' 11 'fizz' 13 14\n",
      " 'fizzbuzz' 16 17 'fizz' 19 'buzz' 'fizz' 22 23 'fizz' 'buzz' 26 'fizz' 28\n",
      " 29 'fizzbuzz' 31 32 'fizz' 34 'buzz' 'fizz' 37 38 'fizz' 'buzz' 41 'fizz'\n",
      " 43 44 'fizzbuzz' 46 47 'fizz' 49]\n"
     ]
    }
   ],
   "source": [
    "# fizzbuzz\n",
    "import numpy as np\n",
    "def FizzBuzz(start, finish):\n",
    "    numvec = np.arange(start,finish)\n",
    "    objvec = np.array(numvec,dtype=object)\n",
    "\n",
    "    fizz = (numvec % 3 == 0)\n",
    "    buzz = (numvec % 5 == 0)\n",
    "    fizzbuzz = fizz & buzz\n",
    "\n",
    "    objvec[fizzbuzz] = 'fizzbuzz'\n",
    "    objvec[fizz & ~fizzbuzz] = 'fizz'\n",
    "    objvec[buzz & ~fizzbuzz] = 'buzz'\n",
    "\n",
    "\n",
    "    return(objvec)\n",
    "\n",
    "print(FizzBuzz(0,50))\n",
    "\n"
   ]
  }
 ],
 "metadata": {
  "kernelspec": {
   "display_name": "base",
   "language": "python",
   "name": "python3"
  },
  "language_info": {
   "codemirror_mode": {
    "name": "ipython",
    "version": 3
   },
   "file_extension": ".py",
   "mimetype": "text/x-python",
   "name": "python",
   "nbconvert_exporter": "python",
   "pygments_lexer": "ipython3",
   "version": "3.11.7"
  }
 },
 "nbformat": 4,
 "nbformat_minor": 2
}
